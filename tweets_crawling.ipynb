{
  "nbformat": 4,
  "nbformat_minor": 0,
  "metadata": {
    "colab": {
      "name": "Untitled0.ipynb",
      "provenance": []
    },
    "kernelspec": {
      "name": "python3",
      "display_name": "Python 3"
    },
    "language_info": {
      "name": "python"
    }
  },
  "cells": [
    {
      "cell_type": "code",
      "metadata": {
        "id": "lminz0m3t-kA",
        "colab": {
          "base_uri": "https://localhost:8080/"
        },
        "outputId": "911e7f10-081c-4b48-c290-f452a827aac8"
      },
      "source": [
        "try:\n",
        "    import snscrape.modules.twitter as sntwitter\n",
        "except:\n",
        "    !pip install snscrape\n",
        "    import snscrape.modules.twitter as sntwitter\n",
        "\n",
        "import csv "
      ],
      "execution_count": null,
      "outputs": [
        {
          "output_type": "stream",
          "name": "stdout",
          "text": [
            "Collecting snscrape\n",
            "  Downloading snscrape-0.3.4-py3-none-any.whl (35 kB)\n",
            "Requirement already satisfied: beautifulsoup4 in /usr/local/lib/python3.7/dist-packages (from snscrape) (4.6.3)\n",
            "Requirement already satisfied: requests[socks] in /usr/local/lib/python3.7/dist-packages (from snscrape) (2.23.0)\n",
            "Requirement already satisfied: lxml in /usr/local/lib/python3.7/dist-packages (from snscrape) (4.2.6)\n",
            "Requirement already satisfied: idna<3,>=2.5 in /usr/local/lib/python3.7/dist-packages (from requests[socks]->snscrape) (2.10)\n",
            "Requirement already satisfied: certifi>=2017.4.17 in /usr/local/lib/python3.7/dist-packages (from requests[socks]->snscrape) (2021.5.30)\n",
            "Requirement already satisfied: urllib3!=1.25.0,!=1.25.1,<1.26,>=1.21.1 in /usr/local/lib/python3.7/dist-packages (from requests[socks]->snscrape) (1.24.3)\n",
            "Requirement already satisfied: chardet<4,>=3.0.2 in /usr/local/lib/python3.7/dist-packages (from requests[socks]->snscrape) (3.0.4)\n",
            "Requirement already satisfied: PySocks!=1.5.7,>=1.5.6 in /usr/local/lib/python3.7/dist-packages (from requests[socks]->snscrape) (1.7.1)\n",
            "Installing collected packages: snscrape\n",
            "Successfully installed snscrape-0.3.4\n"
          ]
        }
      ]
    },
    {
      "cell_type": "code",
      "metadata": {
        "id": "FKcCt37txDm4"
      },
      "source": [
        "maxTweets = 20000 \n",
        "keyword = '{keyword}'\n",
        "csvFile = open('{filenaame}', 'a', newline='', encoding='utf8')\n",
        "csvWriter = csv.writer(csvFile)\n",
        "csvWriter.writerow(['id','date','tweet',])\n",
        "\n",
        "for i,tweet in enumerate(sntwitter.TwitterSearchScraper(keyword + ' lang:ja since:{date} until:{date} -filter:links -filter:replies').get_items()):\n",
        "        if i > maxTweets :\n",
        "            break  \n",
        "        csvWriter.writerow([tweet.id, tweet.date, tweet.content])\n",
        "csvFile.close()"
      ],
      "execution_count": null,
      "outputs": []
    }
  ]
}